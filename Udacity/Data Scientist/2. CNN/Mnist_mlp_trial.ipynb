{
 "cells": [
  {
   "cell_type": "code",
   "execution_count": 40,
   "metadata": {},
   "outputs": [],
   "source": [
    "import keras"
   ]
  },
  {
   "cell_type": "code",
   "execution_count": 41,
   "metadata": {},
   "outputs": [],
   "source": [
    "from keras.datasets import mnist\n",
    "(X_train,y_train),(X_test,y_test) = mnist.load_data()"
   ]
  },
  {
   "cell_type": "code",
   "execution_count": 42,
   "metadata": {},
   "outputs": [
    {
     "data": {
      "image/png": "[encoded data removed]",
      "text/plain": [
       "<Figure size 1440x1440 with 6 Axes>"
      ]
     },
     "metadata": {},
     "output_type": "display_data"
    }
   ],
   "source": [
    "import matplotlib.pyplot as plt\n",
    "%matplotlib inline\n",
    "import matplotlib.cm as cm\n",
    "import numpy as np\n",
    "\n",
    "# plot first six training images\n",
    "fig = plt.figure(figsize =(20,20))\n",
    "for i in range(6):\n",
    "    ax = fig.add_subplot(1,6,i+1,xticks = [],yticks=[])\n",
    "    ax.imshow(X_train[i],cmap='gray')\n",
    "    ax.set_title(str(y_train[i]))"
   ]
  },
  {
   "cell_type": "code",
   "execution_count": null,
   "metadata": {},
   "outputs": [],
   "source": [
    "# visualize image\n",
    "def visualize_input(img, ax):\n",
    "    ax.imshow(img, cmap='gray')\n",
    "    width, height = img.shape\n",
    "    thresh = img.max()/2.5\n",
    "    for x in range(width):\n",
    "        for y in range(height):\n",
    "            ax.annotate(str(round(img[x][y],2)), xy=(y,x),\n",
    "                        horizontalalignment='center',\n",
    "                        verticalalignment='center',\n",
    "                        color='white' if img[x][y]<thresh else 'black')\n",
    "\n",
    "fig = plt.figure(figsize = (12,12)) \n",
    "ax = fig.add_subplot(111)\n",
    "visualize_input(X_train[0], ax)"
   ]
  },
  {
   "cell_type": "code",
   "execution_count": 43,
   "metadata": {},
   "outputs": [],
   "source": [
    "# rescale  [0,255] ->[0,1]\n",
    "X_train = X_train.astype('float32')/255\n",
    "X_test = X_test.astype('float32')/255\n"
   ]
  },
  {
   "cell_type": "code",
   "execution_count": 44,
   "metadata": {},
   "outputs": [
    {
     "name": "stdout",
     "output_type": "stream",
     "text": [
      "Integer-valued labesl:\n",
      "[5 0 4 1 9 2 1 3 1 4]\n",
      "One-hot labels:\n",
      "[[0. 0. 0. 0. 0. 1. 0. 0. 0. 0.]\n",
      " [1. 0. 0. 0. 0. 0. 0. 0. 0. 0.]\n",
      " [0. 0. 0. 0. 1. 0. 0. 0. 0. 0.]\n",
      " [0. 1. 0. 0. 0. 0. 0. 0. 0. 0.]\n",
      " [0. 0. 0. 0. 0. 0. 0. 0. 0. 1.]\n",
      " [0. 0. 1. 0. 0. 0. 0. 0. 0. 0.]\n",
      " [0. 1. 0. 0. 0. 0. 0. 0. 0. 0.]\n",
      " [0. 0. 0. 1. 0. 0. 0. 0. 0. 0.]\n",
      " [0. 1. 0. 0. 0. 0. 0. 0. 0. 0.]\n",
      " [0. 0. 0. 0. 1. 0. 0. 0. 0. 0.]]\n"
     ]
    }
   ],
   "source": [
    "from keras.utils import np_utils\n",
    "\n",
    "# print first ten(integer-valued) training labels\n",
    "print('Integer-valued labesl:')\n",
    "print(y_train[:10])\n",
    "\n",
    "# one-hot encode the labels\n",
    "#Converts a class vector (integers) to binary class matrix.\n",
    "#tf.keras.utils.to_categorical(y, num_classes=None, dtype=\"float32\") \n",
    "#y is the class vector,num_classes:total number of classes.\n",
    "y_train = np_utils.to_categorical(y_train,10)  \n",
    "y_test = np_utils.to_categorical(y_test,10)\n",
    "\n",
    "#print first ten(one-hot) training labels\n",
    "print('One-hot labels:')\n",
    "print(y_train[:10])\n"
   ]
  },
  {
   "cell_type": "code",
   "execution_count": 45,
   "metadata": {},
   "outputs": [],
   "source": [
    "from keras.models import Sequential\n",
    "from keras.layers import Dense,Flatten,Dropout"
   ]
  },
  {
   "cell_type": "code",
   "execution_count": 46,
   "metadata": {
    "scrolled": true
   },
   "outputs": [
    {
     "name": "stdout",
     "output_type": "stream",
     "text": [
      "Model: \"sequential_5\"\n",
      "_________________________________________________________________\n",
      "Layer (type)                 Output Shape              Param #   \n",
      "=================================================================\n",
      "flatten_5 (Flatten)          (None, 784)               0         \n",
      "_________________________________________________________________\n",
      "dense_13 (Dense)             (None, 512)               401920    \n",
      "_________________________________________________________________\n",
      "dropout_5 (Dropout)          (None, 512)               0         \n",
      "_________________________________________________________________\n",
      "dense_14 (Dense)             (None, 512)               262656    \n",
      "_________________________________________________________________\n",
      "dropout_6 (Dropout)          (None, 512)               0         \n",
      "_________________________________________________________________\n",
      "dense_15 (Dense)             (None, 10)                5130      \n",
      "=================================================================\n",
      "Total params: 669,706\n",
      "Trainable params: 669,706\n",
      "Non-trainable params: 0\n",
      "_________________________________________________________________\n"
     ]
    }
   ],
   "source": [
    "# define the model\n",
    "model = Sequential()\n",
    "model.add(Flatten(input_shape=X_train.shape[1:]))\n",
    "model.add(Dense(512,activation = 'relu'))\n",
    "model.add(Dropout(0.2))\n",
    "model.add(Dense(512,activation = 'relu'))\n",
    "model.add(Dropout(0.2))\n",
    "model.add(Dense(10,activation='softmax'))\n",
    "# summarize the model\n",
    "model.summary()"
   ]
  },
  {
   "cell_type": "code",
   "execution_count": 47,
   "metadata": {},
   "outputs": [],
   "source": [
    "#compile the model\n",
    "model.compile(loss ='categorical_crossentropy',optimizer='rmsprop',metrics = ['accuracy'])"
   ]
  },
  {
   "cell_type": "code",
   "execution_count": null,
   "metadata": {},
   "outputs": [],
   "source": [
    "#before training\n",
    "# evaluate test accuracy\n",
    "score = model.evaluate(X_test, y_test, verbose=0)\n",
    "accuracy = 100*score[1]\n",
    "\n",
    "# print test accuracy\n",
    "print('Test accuracy: %.4f%%' % accuracy)"
   ]
  },
  {
   "cell_type": "code",
   "execution_count": 48,
   "metadata": {},
   "outputs": [
    {
     "name": "stdout",
     "output_type": "stream",
     "text": [
      "Train on 48000 samples, validate on 12000 samples\n",
      "Epoch 1/10\n",
      "48000/48000 [==============================] - 4s 78us/step - loss: 0.2803 - accuracy: 0.9135 - val_loss: 0.1250 - val_accuracy: 0.9608\n",
      "\n",
      "Epoch 00001: val_loss improved from inf to 0.12504, saving model to mnist.model.best.hdf5\n",
      "Epoch 2/10\n",
      "48000/48000 [==============================] - 4s 77us/step - loss: 0.1138 - accuracy: 0.9650 - val_loss: 0.1004 - val_accuracy: 0.9699\n",
      "\n",
      "Epoch 00002: val_loss improved from 0.12504 to 0.10044, saving model to mnist.model.best.hdf5\n",
      "Epoch 3/10\n",
      "48000/48000 [==============================] - 4s 76us/step - loss: 0.0794 - accuracy: 0.9752 - val_loss: 0.0917 - val_accuracy: 0.9746\n",
      "\n",
      "Epoch 00003: val_loss improved from 0.10044 to 0.09169, saving model to mnist.model.best.hdf5\n",
      "Epoch 4/10\n",
      "48000/48000 [==============================] - 4s 77us/step - loss: 0.0621 - accuracy: 0.9805 - val_loss: 0.0941 - val_accuracy: 0.9749\n",
      "\n",
      "Epoch 00004: val_loss did not improve from 0.09169\n",
      "Epoch 5/10\n",
      "48000/48000 [==============================] - 4s 81us/step - loss: 0.0522 - accuracy: 0.9842 - val_loss: 0.0857 - val_accuracy: 0.9800\n",
      "\n",
      "Epoch 00005: val_loss improved from 0.09169 to 0.08566, saving model to mnist.model.best.hdf5\n",
      "Epoch 6/10\n",
      "48000/48000 [==============================] - 4s 80us/step - loss: 0.0424 - accuracy: 0.9868 - val_loss: 0.0934 - val_accuracy: 0.9780\n",
      "\n",
      "Epoch 00006: val_loss did not improve from 0.08566\n",
      "Epoch 7/10\n",
      "48000/48000 [==============================] - 4s 79us/step - loss: 0.0377 - accuracy: 0.9885 - val_loss: 0.1033 - val_accuracy: 0.9790\n",
      "\n",
      "Epoch 00007: val_loss did not improve from 0.08566\n",
      "Epoch 8/10\n",
      "48000/48000 [==============================] - 4s 80us/step - loss: 0.0338 - accuracy: 0.9896 - val_loss: 0.1124 - val_accuracy: 0.9798\n",
      "\n",
      "Epoch 00008: val_loss did not improve from 0.08566\n",
      "Epoch 9/10\n",
      "48000/48000 [==============================] - 4s 79us/step - loss: 0.0318 - accuracy: 0.9907 - val_loss: 0.1184 - val_accuracy: 0.9775\n",
      "\n",
      "Epoch 00009: val_loss did not improve from 0.08566\n",
      "Epoch 10/10\n",
      "48000/48000 [==============================] - 4s 81us/step - loss: 0.0278 - accuracy: 0.9915 - val_loss: 0.1131 - val_accuracy: 0.9804\n",
      "\n",
      "Epoch 00010: val_loss did not improve from 0.08566\n"
     ]
    }
   ],
   "source": [
    "from keras.callbacks import ModelCheckpoint\n",
    "# train the model\n",
    "checkpointer = ModelCheckpoint(filepath='mnist.model.best.hdf5',verbose=1,save_best_only=True)\n",
    "hist = model.fit(X_train,y_train,batch_size= 128,epochs=10,validation_split=0.2,callbacks=[checkpointer],verbose=1,shuffle=True)\n"
   ]
  },
  {
   "cell_type": "code",
   "execution_count": null,
   "metadata": {},
   "outputs": [],
   "source": [
    "# load the weights that yielded the best validation accuracy\n",
    "model.load_weights('mnist.model.best.hdf5')"
   ]
  },
  {
   "cell_type": "code",
   "execution_count": 49,
   "metadata": {},
   "outputs": [
    {
     "name": "stdout",
     "output_type": "stream",
     "text": [
      "Test accuracy: 98.2900\n"
     ]
    }
   ],
   "source": [
    "#evaluate test accuracy\n",
    "score = model.evaluate(X_test,y_test,verbose=0)\n",
    "accuracy = 100*score[1]\n",
    "print(\"Test accuracy: {:.4f}\".format(accuracy))"
   ]
  },
  {
   "cell_type": "code",
   "execution_count": null,
   "metadata": {},
   "outputs": [],
   "source": []
  }
 ],
 "metadata": {
  "kernelspec": {
   "display_name": "Python 3",
   "language": "python",
   "name": "python3"
  },
  "language_info": {
   "codemirror_mode": {
    "name": "ipython",
    "version": 3
   },
   "file_extension": ".py",
   "mimetype": "text/x-python",
   "name": "python",
   "nbconvert_exporter": "python",
   "pygments_lexer": "ipython3",
   "version": "3.7.7"
  }
 },
 "nbformat": 4,
 "nbformat_minor": 4
}
